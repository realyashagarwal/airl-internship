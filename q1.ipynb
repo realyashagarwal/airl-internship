{
 "cells": [
  {
   "cell_type": "markdown",
   "id": "aed128e1",
   "metadata": {},
   "source": [
    "# Vision Transformer (ViT) on CIFAR-10\n",
    "\n",
    "Implementation of Vision Transformer for CIFAR-10 classification based on:\n",
    "\"An Image is Worth 16x16 Words: Transformers for Image Recognition at Scale\" (Dosovitskiy et al., ICLR 2021)\n"
   ]
  },
  {
   "cell_type": "code",
   "execution_count": 1,
   "id": "4a9cd113",
   "metadata": {},
   "outputs": [
    {
     "name": "stderr",
     "output_type": "stream",
     "text": [
      "  DEPRECATION: Building 'warmup_scheduler' using the legacy setup.py bdist_wheel mechanism, which will be removed in a future version. pip 25.3 will enforce this behaviour change. A possible replacement is to use the standardized build interface by setting the `--use-pep517` option, (possibly combined with `--no-build-isolation`), or adding a `pyproject.toml` file to the source tree of 'warmup_scheduler'. Discussion can be found at https://github.com/pypa/pip/issues/6334\n"
     ]
    }
   ],
   "source": [
    "# Install required packages\n",
    "!pip install -q torch torchvision\n",
    "!pip install -q einops\n",
    "!pip install -q timm\n",
    "!pip install -q warmup_scheduler\n"
   ]
  },
  {
   "cell_type": "code",
   "execution_count": 2,
   "id": "9d72b4b8",
   "metadata": {},
   "outputs": [
    {
     "name": "stdout",
     "output_type": "stream",
     "text": [
      "Using device: cuda\n",
      "GPU: NVIDIA GeForce RTX 3070 Ti Laptop GPU\n"
     ]
    }
   ],
   "source": [
    "import torch\n",
    "import torch.nn as nn\n",
    "import torch.nn.functional as F\n",
    "import torch.optim as optim\n",
    "from torch.utils.data import DataLoader\n",
    "from torch.optim.lr_scheduler import CosineAnnealingLR, OneCycleLR\n",
    "\n",
    "import torchvision\n",
    "import torchvision.transforms as transforms\n",
    "from torchvision.transforms import v2\n",
    "\n",
    "import numpy as np\n",
    "import matplotlib.pyplot as plt\n",
    "from einops import rearrange, repeat\n",
    "from einops.layers.torch import Rearrange\n",
    "\n",
    "import random\n",
    "import os\n",
    "from tqdm import tqdm\n",
    "import time\n",
    "import math\n",
    "from typing import Optional, Tuple\n",
    "\n",
    "# Set seeds for reproducibility\n",
    "def set_seed(seed=42):\n",
    "    random.seed(seed)\n",
    "    np.random.seed(seed)\n",
    "    torch.manual_seed(seed)\n",
    "    torch.cuda.manual_seed(seed)\n",
    "    torch.cuda.manual_seed_all(seed)\n",
    "    torch.backends.cudnn.deterministic = True\n",
    "    torch.backends.cudnn.benchmark = False\n",
    "\n",
    "set_seed(42)\n",
    "\n",
    "# Check GPU availability\n",
    "device = torch.device('cuda' if torch.cuda.is_available() else 'cpu')\n",
    "print(f'Using device: {device}')\n",
    "if torch.cuda.is_available():\n",
    "    print(f'GPU: {torch.cuda.get_device_name(0)}')\n"
   ]
  },
  {
   "cell_type": "markdown",
   "id": "8f445a1f",
   "metadata": {},
   "source": [
    "## Data Preparation with Advanced Augmentations\n"
   ]
  },
  {
   "cell_type": "code",
   "execution_count": 3,
   "id": "2e3a2a68",
   "metadata": {},
   "outputs": [],
   "source": [
    "class CutMix:\n",
    "    \"\"\"CutMix augmentation\"\"\"\n",
    "    def __init__(self, alpha=1.0, prob=0.5):\n",
    "        self.alpha = alpha\n",
    "        self.prob = prob\n",
    "    \n",
    "    def __call__(self, batch, labels):\n",
    "        if random.random() > self.prob:\n",
    "            return batch, labels, labels, 1.0\n",
    "        \n",
    "        batch_size = batch.size(0)\n",
    "        lam = np.random.beta(self.alpha, self.alpha)\n",
    "        \n",
    "        rand_index = torch.randperm(batch_size).to(batch.device)\n",
    "        \n",
    "        bbx1, bby1, bbx2, bby2 = self.rand_bbox(batch.size(), lam)\n",
    "        batch[:, :, bbx1:bbx2, bby1:bby2] = batch[rand_index, :, bbx1:bbx2, bby1:bby2]\n",
    "        \n",
    "        lam = 1 - ((bbx2 - bbx1) * (bby2 - bby1) / (batch.size(-1) * batch.size(-2)))\n",
    "        \n",
    "        return batch, labels, labels[rand_index], lam\n",
    "    \n",
    "    def rand_bbox(self, size, lam):\n",
    "        W = size[2]\n",
    "        H = size[3]\n",
    "        cut_rat = np.sqrt(1. - lam)\n",
    "        cut_w = int(W * cut_rat)\n",
    "        cut_h = int(H * cut_rat)\n",
    "        \n",
    "        cx = np.random.randint(W)\n",
    "        cy = np.random.randint(H)\n",
    "        \n",
    "        bbx1 = np.clip(cx - cut_w // 2, 0, W)\n",
    "        bby1 = np.clip(cy - cut_h // 2, 0, H)\n",
    "        bbx2 = np.clip(cx + cut_w // 2, 0, W)\n",
    "        bby2 = np.clip(cy + cut_h // 2, 0, H)\n",
    "        \n",
    "        return bbx1, bby1, bbx2, bby2\n",
    "\n",
    "class MixUp:\n",
    "    \"\"\"MixUp augmentation\"\"\"\n",
    "    def __init__(self, alpha=1.0, prob=0.5):\n",
    "        self.alpha = alpha\n",
    "        self.prob = prob\n",
    "    \n",
    "    def __call__(self, batch, labels):\n",
    "        if random.random() > self.prob:\n",
    "            return batch, labels, labels, 1.0\n",
    "        \n",
    "        batch_size = batch.size(0)\n",
    "        lam = np.random.beta(self.alpha, self.alpha)\n",
    "        \n",
    "        rand_index = torch.randperm(batch_size).to(batch.device)\n",
    "        \n",
    "        mixed_batch = lam * batch + (1 - lam) * batch[rand_index]\n",
    "        \n",
    "        return mixed_batch, labels, labels[rand_index], lam\n"
   ]
  },
  {
   "cell_type": "code",
   "execution_count": 4,
   "id": "a78256b2",
   "metadata": {},
   "outputs": [
    {
     "name": "stderr",
     "output_type": "stream",
     "text": [
      "100%|██████████| 170M/170M [19:27<00:00, 146kB/s]    \n"
     ]
    },
    {
     "name": "stdout",
     "output_type": "stream",
     "text": [
      "Training samples: 50000\n",
      "Test samples: 10000\n"
     ]
    }
   ],
   "source": [
    "# Data loading and augmentation\n",
    "def get_dataloaders(batch_size=128, num_workers=2):\n",
    "    # Strong augmentation for training\n",
    "    transform_train = transforms.Compose([\n",
    "        transforms.RandomCrop(32, padding=4),\n",
    "        transforms.RandomHorizontalFlip(),\n",
    "        transforms.RandomRotation(15),\n",
    "        transforms.ColorJitter(brightness=0.4, contrast=0.4, saturation=0.4, hue=0.1),\n",
    "        transforms.RandomAffine(degrees=0, translate=(0.1, 0.1)),\n",
    "        transforms.ToTensor(),\n",
    "        transforms.Normalize((0.4914, 0.4822, 0.4465), (0.2470, 0.2435, 0.2616)),\n",
    "        transforms.RandomErasing(p=0.25, scale=(0.02, 0.33), ratio=(0.3, 3.3)),\n",
    "    ])\n",
    "    \n",
    "    # Standard normalization for testing\n",
    "    transform_test = transforms.Compose([\n",
    "        transforms.ToTensor(),\n",
    "        transforms.Normalize((0.4914, 0.4822, 0.4465), (0.2470, 0.2435, 0.2616)),\n",
    "    ])\n",
    "    \n",
    "    # Load CIFAR-10 dataset\n",
    "    trainset = torchvision.datasets.CIFAR10(root='./data', train=True,\n",
    "                                            download=True, transform=transform_train)\n",
    "    trainloader = DataLoader(trainset, batch_size=batch_size,\n",
    "                            shuffle=True, num_workers=num_workers, pin_memory=True)\n",
    "    \n",
    "    testset = torchvision.datasets.CIFAR10(root='./data', train=False,\n",
    "                                           download=True, transform=transform_test)\n",
    "    testloader = DataLoader(testset, batch_size=batch_size,\n",
    "                           shuffle=False, num_workers=num_workers, pin_memory=True)\n",
    "    \n",
    "    classes = ('plane', 'car', 'bird', 'cat', 'deer',\n",
    "               'dog', 'frog', 'horse', 'ship', 'truck')\n",
    "    \n",
    "    return trainloader, testloader, classes\n",
    "\n",
    "# Load data\n",
    "batch_size = 128\n",
    "trainloader, testloader, classes = get_dataloaders(batch_size=batch_size)\n",
    "print(f'Training samples: {len(trainloader.dataset)}')\n",
    "print(f'Test samples: {len(testloader.dataset)}')\n"
   ]
  },
  {
   "cell_type": "markdown",
   "id": "62c27719",
   "metadata": {},
   "source": [
    "## Vision Transformer Architecture\n"
   ]
  },
  {
   "cell_type": "code",
   "execution_count": 5,
   "id": "b89f5c89",
   "metadata": {},
   "outputs": [],
   "source": [
    "class PatchEmbedding(nn.Module):\n",
    "    \"\"\"Split image into patches and embed them.\"\"\"\n",
    "    def __init__(self, image_size=32, patch_size=4, in_channels=3, embed_dim=256, use_conv=True):\n",
    "        super().__init__()\n",
    "        self.image_size = image_size\n",
    "        self.patch_size = patch_size\n",
    "        self.n_patches = (image_size // patch_size) ** 2\n",
    "        \n",
    "        if use_conv:\n",
    "            # Use Conv2d for patch embedding (more efficient)\n",
    "            self.proj = nn.Conv2d(in_channels, embed_dim, \n",
    "                                 kernel_size=patch_size, stride=patch_size)\n",
    "        else:\n",
    "            # Linear projection of flattened patches\n",
    "            self.proj = nn.Sequential(\n",
    "                Rearrange('b c (h p1) (w p2) -> b (h w) (p1 p2 c)', \n",
    "                         p1=patch_size, p2=patch_size),\n",
    "                nn.Linear(patch_size * patch_size * in_channels, embed_dim),\n",
    "            )\n",
    "        \n",
    "        self.use_conv = use_conv\n",
    "    \n",
    "    def forward(self, x):\n",
    "        if self.use_conv:\n",
    "            x = self.proj(x)  # (B, embed_dim, n_patches_h, n_patches_w)\n",
    "            x = rearrange(x, 'b e h w -> b (h w) e')\n",
    "        else:\n",
    "            x = self.proj(x)\n",
    "        return x\n",
    "\n",
    "class MultiHeadSelfAttention(nn.Module):\n",
    "    \"\"\"Multi-Head Self Attention module with dropout and layer scale.\"\"\"\n",
    "    def __init__(self, embed_dim, num_heads=8, dropout=0.1, layer_scale_init=1e-4):\n",
    "        super().__init__()\n",
    "        self.embed_dim = embed_dim\n",
    "        self.num_heads = num_heads\n",
    "        self.head_dim = embed_dim // num_heads\n",
    "        self.scale = self.head_dim ** -0.5\n",
    "        \n",
    "        self.qkv = nn.Linear(embed_dim, embed_dim * 3, bias=True)\n",
    "        self.attn_drop = nn.Dropout(dropout)\n",
    "        self.proj = nn.Linear(embed_dim, embed_dim)\n",
    "        self.proj_drop = nn.Dropout(dropout)\n",
    "        \n",
    "        # Layer scale for better training stability\n",
    "        if layer_scale_init is not None:\n",
    "            self.layer_scale = nn.Parameter(torch.ones(embed_dim) * layer_scale_init)\n",
    "        else:\n",
    "            self.layer_scale = None\n",
    "    \n",
    "    def forward(self, x):\n",
    "        B, N, C = x.shape\n",
    "        \n",
    "        # Generate Q, K, V\n",
    "        qkv = self.qkv(x).reshape(B, N, 3, self.num_heads, self.head_dim).permute(2, 0, 3, 1, 4)\n",
    "        q, k, v = qkv[0], qkv[1], qkv[2]\n",
    "        \n",
    "        # Scaled dot-product attention\n",
    "        attn = (q @ k.transpose(-2, -1)) * self.scale\n",
    "        attn = attn.softmax(dim=-1)\n",
    "        attn = self.attn_drop(attn)\n",
    "        \n",
    "        # Apply attention to values\n",
    "        x = (attn @ v).transpose(1, 2).reshape(B, N, C)\n",
    "        x = self.proj(x)\n",
    "        x = self.proj_drop(x)\n",
    "        \n",
    "        if self.layer_scale is not None:\n",
    "            x = x * self.layer_scale\n",
    "        \n",
    "        return x\n",
    "\n",
    "class FeedForward(nn.Module):\n",
    "    \"\"\"MLP module with GELU activation and dropout.\"\"\"\n",
    "    def __init__(self, embed_dim, hidden_dim=None, dropout=0.1, layer_scale_init=1e-4):\n",
    "        super().__init__()\n",
    "        hidden_dim = hidden_dim or embed_dim * 4\n",
    "        \n",
    "        self.fc1 = nn.Linear(embed_dim, hidden_dim)\n",
    "        self.gelu = nn.GELU()\n",
    "        self.dropout1 = nn.Dropout(dropout)\n",
    "        self.fc2 = nn.Linear(hidden_dim, embed_dim)\n",
    "        self.dropout2 = nn.Dropout(dropout)\n",
    "        \n",
    "        # Layer scale\n",
    "        if layer_scale_init is not None:\n",
    "            self.layer_scale = nn.Parameter(torch.ones(embed_dim) * layer_scale_init)\n",
    "        else:\n",
    "            self.layer_scale = None\n",
    "    \n",
    "    def forward(self, x):\n",
    "        x = self.fc1(x)\n",
    "        x = self.gelu(x)\n",
    "        x = self.dropout1(x)\n",
    "        x = self.fc2(x)\n",
    "        x = self.dropout2(x)\n",
    "        \n",
    "        if self.layer_scale is not None:\n",
    "            x = x * self.layer_scale\n",
    "        \n",
    "        return x\n",
    "\n",
    "class TransformerBlock(nn.Module):\n",
    "    \"\"\"Transformer block with pre-normalization.\"\"\"\n",
    "    def __init__(self, embed_dim, num_heads=8, mlp_ratio=4.0, dropout=0.1, \n",
    "                 attn_dropout=0.1, drop_path=0.1, layer_scale_init=1e-4):\n",
    "        super().__init__()\n",
    "        self.norm1 = nn.LayerNorm(embed_dim, eps=1e-6)\n",
    "        self.attn = MultiHeadSelfAttention(embed_dim, num_heads, attn_dropout, layer_scale_init)\n",
    "        self.norm2 = nn.LayerNorm(embed_dim, eps=1e-6)\n",
    "        self.ffn = FeedForward(embed_dim, int(embed_dim * mlp_ratio), dropout, layer_scale_init)\n",
    "        \n",
    "        # Stochastic depth (drop path)\n",
    "        self.drop_path = DropPath(drop_path) if drop_path > 0. else nn.Identity()\n",
    "    \n",
    "    def forward(self, x):\n",
    "        x = x + self.drop_path(self.attn(self.norm1(x)))\n",
    "        x = x + self.drop_path(self.ffn(self.norm2(x)))\n",
    "        return x\n",
    "\n",
    "class DropPath(nn.Module):\n",
    "    \"\"\"Drop paths (Stochastic Depth) per sample.\"\"\"\n",
    "    def __init__(self, drop_prob=0.1):\n",
    "        super().__init__()\n",
    "        self.drop_prob = drop_prob\n",
    "    \n",
    "    def forward(self, x):\n",
    "        if self.drop_prob == 0. or not self.training:\n",
    "            return x\n",
    "        keep_prob = 1 - self.drop_prob\n",
    "        shape = (x.shape[0],) + (1,) * (x.ndim - 1)\n",
    "        random_tensor = keep_prob + torch.rand(shape, dtype=x.dtype, device=x.device)\n",
    "        random_tensor.floor_()\n",
    "        output = x.div(keep_prob) * random_tensor\n",
    "        return output\n"
   ]
  },
  {
   "cell_type": "code",
   "execution_count": 6,
   "id": "a8f18fa9",
   "metadata": {},
   "outputs": [],
   "source": [
    "class VisionTransformer(nn.Module):\n",
    "    \"\"\"Vision Transformer with improved training stability and performance.\"\"\"\n",
    "    def __init__(self, image_size=32, patch_size=4, in_channels=3, num_classes=10,\n",
    "                 embed_dim=256, depth=12, num_heads=8, mlp_ratio=4.0,\n",
    "                 dropout=0.1, attn_dropout=0.1, drop_path_rate=0.1,\n",
    "                 layer_scale_init=1e-4, use_conv_patch=True):\n",
    "        super().__init__()\n",
    "        \n",
    "        # Patch embedding\n",
    "        self.patch_embed = PatchEmbedding(image_size, patch_size, in_channels, \n",
    "                                         embed_dim, use_conv_patch)\n",
    "        num_patches = self.patch_embed.n_patches\n",
    "        \n",
    "        # CLS token\n",
    "        self.cls_token = nn.Parameter(torch.zeros(1, 1, embed_dim))\n",
    "        \n",
    "        # Positional embeddings (learnable)\n",
    "        self.pos_embed = nn.Parameter(torch.zeros(1, num_patches + 1, embed_dim))\n",
    "        self.pos_drop = nn.Dropout(dropout)\n",
    "        \n",
    "        # Stochastic depth decay\n",
    "        dpr = [x.item() for x in torch.linspace(0, drop_path_rate, depth)]\n",
    "        \n",
    "        # Transformer blocks\n",
    "        self.blocks = nn.ModuleList([\n",
    "            TransformerBlock(embed_dim, num_heads, mlp_ratio, dropout, \n",
    "                           attn_dropout, dpr[i], layer_scale_init)\n",
    "            for i in range(depth)\n",
    "        ])\n",
    "        \n",
    "        # Final norm and classifier\n",
    "        self.norm = nn.LayerNorm(embed_dim, eps=1e-6)\n",
    "        self.head = nn.Sequential(\n",
    "            nn.Linear(embed_dim, embed_dim // 2),\n",
    "            nn.GELU(),\n",
    "            nn.Dropout(dropout),\n",
    "            nn.Linear(embed_dim // 2, num_classes)\n",
    "        )\n",
    "        \n",
    "        # Initialize weights\n",
    "        self._init_weights()\n",
    "    \n",
    "    def _init_weights(self):\n",
    "        # Initialize positional embeddings\n",
    "        nn.init.trunc_normal_(self.pos_embed, std=0.02)\n",
    "        nn.init.trunc_normal_(self.cls_token, std=0.02)\n",
    "        \n",
    "        # Initialize other layers\n",
    "        for m in self.modules():\n",
    "            if isinstance(m, nn.Linear):\n",
    "                nn.init.trunc_normal_(m.weight, std=0.02)\n",
    "                if m.bias is not None:\n",
    "                    nn.init.zeros_(m.bias)\n",
    "            elif isinstance(m, nn.LayerNorm):\n",
    "                nn.init.ones_(m.weight)\n",
    "                nn.init.zeros_(m.bias)\n",
    "            elif isinstance(m, nn.Conv2d):\n",
    "                nn.init.kaiming_normal_(m.weight, mode='fan_out', nonlinearity='relu')\n",
    "    \n",
    "    def forward(self, x):\n",
    "        B = x.shape[0]\n",
    "        \n",
    "        # Patch embedding\n",
    "        x = self.patch_embed(x)  # (B, n_patches, embed_dim)\n",
    "        \n",
    "        # Add CLS token\n",
    "        cls_tokens = self.cls_token.expand(B, -1, -1)\n",
    "        x = torch.cat((cls_tokens, x), dim=1)  # (B, n_patches+1, embed_dim)\n",
    "        \n",
    "        # Add positional embeddings\n",
    "        x = x + self.pos_embed\n",
    "        x = self.pos_drop(x)\n",
    "        \n",
    "        # Apply transformer blocks\n",
    "        for block in self.blocks:\n",
    "            x = block(x)\n",
    "        \n",
    "        # Final norm and classification\n",
    "        x = self.norm(x)\n",
    "        cls_token_final = x[:, 0]  # Use CLS token for classification\n",
    "        x = self.head(cls_token_final)\n",
    "        \n",
    "        return x\n"
   ]
  },
  {
   "cell_type": "markdown",
   "id": "046a40b3",
   "metadata": {},
   "source": [
    "## Training Configuration\n"
   ]
  },
  {
   "cell_type": "code",
   "execution_count": 8,
   "id": "e6970bee",
   "metadata": {},
   "outputs": [
    {
     "name": "stdout",
     "output_type": "stream",
     "text": [
      "Configuration:\n",
      "image_size: 32\n",
      "patch_size: 4\n",
      "embed_dim: 384\n",
      "depth: 12\n",
      "num_heads: 6\n",
      "mlp_ratio: 4.0\n",
      "dropout: 0.1\n",
      "attn_dropout: 0.0\n",
      "drop_path_rate: 0.15\n",
      "layer_scale_init: 0.0001\n",
      "use_conv_patch: True\n",
      "epochs: 200\n",
      "batch_size: 128\n",
      "base_lr: 0.001\n",
      "weight_decay: 0.05\n",
      "warmup_epochs: 20\n",
      "min_lr: 1e-05\n",
      "mixup_alpha: 0.8\n",
      "cutmix_alpha: 1.0\n",
      "mixup_prob: 0.5\n",
      "cutmix_prob: 0.5\n",
      "label_smoothing: 0.1\n"
     ]
    }
   ],
   "source": [
    "# Best configuration found through experimentation\n",
    "config = {\n",
    "    'image_size': 32,\n",
    "    'patch_size': 4,  # 4x4 patches work well for CIFAR-10\n",
    "    'embed_dim': 384,  # Increased embedding dimension\n",
    "    'depth': 12,  # 12 transformer blocks\n",
    "    'num_heads': 6,  # 6 attention heads\n",
    "    'mlp_ratio': 4.0,  # MLP hidden dim = 4 * embed_dim\n",
    "    'dropout': 0.1,\n",
    "    'attn_dropout': 0.0,\n",
    "    'drop_path_rate': 0.15,  # Stochastic depth\n",
    "    'layer_scale_init': 1e-4,\n",
    "    'use_conv_patch': True,\n",
    "    \n",
    "    # Training hyperparameters\n",
    "    'epochs': 200,\n",
    "    'batch_size': 128,\n",
    "    'base_lr': 1e-3,\n",
    "    'weight_decay': 0.05,\n",
    "    'warmup_epochs': 20,\n",
    "    'min_lr': 1e-5,\n",
    "    \n",
    "    # Augmentation\n",
    "    'mixup_alpha': 0.8,\n",
    "    'cutmix_alpha': 1.0,\n",
    "    'mixup_prob': 0.5,\n",
    "    'cutmix_prob': 0.5,\n",
    "    'label_smoothing': 0.1,\n",
    "}\n",
    "\n",
    "print(\"Configuration:\")\n",
    "for key, value in config.items():\n",
    "    print(f\"{key}: {value}\")\n"
   ]
  },
  {
   "cell_type": "code",
   "execution_count": 9,
   "id": "c4cace14",
   "metadata": {},
   "outputs": [
    {
     "name": "stdout",
     "output_type": "stream",
     "text": [
      "Total parameters: 21,423,562\n",
      "Trainable parameters: 21,423,562\n"
     ]
    }
   ],
   "source": [
    "# Initialize model\n",
    "model = VisionTransformer(\n",
    "    image_size=config['image_size'],\n",
    "    patch_size=config['patch_size'],\n",
    "    embed_dim=config['embed_dim'],\n",
    "    depth=config['depth'],\n",
    "    num_heads=config['num_heads'],\n",
    "    mlp_ratio=config['mlp_ratio'],\n",
    "    dropout=config['dropout'],\n",
    "    attn_dropout=config['attn_dropout'],\n",
    "    drop_path_rate=config['drop_path_rate'],\n",
    "    layer_scale_init=config['layer_scale_init'],\n",
    "    use_conv_patch=config['use_conv_patch']\n",
    ").to(device)\n",
    "\n",
    "# Count parameters\n",
    "total_params = sum(p.numel() for p in model.parameters())\n",
    "trainable_params = sum(p.numel() for p in model.parameters() if p.requires_grad)\n",
    "print(f\"Total parameters: {total_params:,}\")\n",
    "print(f\"Trainable parameters: {trainable_params:,}\")\n"
   ]
  },
  {
   "cell_type": "markdown",
   "id": "d3e9145a",
   "metadata": {},
   "source": [
    "## Training Functions\n"
   ]
  },
  {
   "cell_type": "code",
   "execution_count": 10,
   "id": "1994037c",
   "metadata": {},
   "outputs": [],
   "source": [
    "class LabelSmoothingLoss(nn.Module):\n",
    "    \"\"\"Label smoothing loss for better generalization.\"\"\"\n",
    "    def __init__(self, num_classes=10, smoothing=0.1):\n",
    "        super().__init__()\n",
    "        self.num_classes = num_classes\n",
    "        self.smoothing = smoothing\n",
    "        self.confidence = 1.0 - smoothing\n",
    "    \n",
    "    def forward(self, pred, target):\n",
    "        with torch.no_grad():\n",
    "            true_dist = torch.zeros_like(pred)\n",
    "            true_dist.fill_(self.smoothing / (self.num_classes - 1))\n",
    "            true_dist.scatter_(1, target.unsqueeze(1), self.confidence)\n",
    "        \n",
    "        return torch.mean(torch.sum(-true_dist * F.log_softmax(pred, dim=-1), dim=-1))\n",
    "\n",
    "def mixup_criterion(criterion, pred, y_a, y_b, lam):\n",
    "    \"\"\"Loss function for MixUp/CutMix augmentation.\"\"\"\n",
    "    return lam * criterion(pred, y_a) + (1 - lam) * criterion(pred, y_b)\n",
    "\n",
    "class WarmupCosineScheduler:\n",
    "    \"\"\"Cosine scheduler with linear warmup.\"\"\"\n",
    "    def __init__(self, optimizer, warmup_epochs, total_epochs, base_lr, min_lr=1e-5):\n",
    "        self.optimizer = optimizer\n",
    "        self.warmup_epochs = warmup_epochs\n",
    "        self.total_epochs = total_epochs\n",
    "        self.base_lr = base_lr\n",
    "        self.min_lr = min_lr\n",
    "    \n",
    "    def step(self, epoch):\n",
    "        if epoch < self.warmup_epochs:\n",
    "            # Linear warmup\n",
    "            lr = self.base_lr * (epoch + 1) / self.warmup_epochs\n",
    "        else:\n",
    "            # Cosine annealing\n",
    "            progress = (epoch - self.warmup_epochs) / (self.total_epochs - self.warmup_epochs)\n",
    "            lr = self.min_lr + (self.base_lr - self.min_lr) * 0.5 * (1 + math.cos(math.pi * progress))\n",
    "        \n",
    "        for param_group in self.optimizer.param_groups:\n",
    "            param_group['lr'] = lr\n",
    "        \n",
    "        return lr\n",
    "\n",
    "def train_epoch(model, dataloader, criterion, optimizer, device, mixup_fn=None, cutmix_fn=None):\n",
    "    \"\"\"Train for one epoch.\"\"\"\n",
    "    model.train()\n",
    "    running_loss = 0.0\n",
    "    correct = 0\n",
    "    total = 0\n",
    "    \n",
    "    pbar = tqdm(dataloader, desc='Training', leave=False)\n",
    "    for batch_idx, (inputs, targets) in enumerate(pbar):\n",
    "        inputs, targets = inputs.to(device), targets.to(device)\n",
    "        \n",
    "        # Apply MixUp or CutMix\n",
    "        if mixup_fn is not None and random.random() < 0.5:\n",
    "            inputs, targets_a, targets_b, lam = mixup_fn(inputs, targets)\n",
    "            outputs = model(inputs)\n",
    "            loss = mixup_criterion(criterion, outputs, targets_a, targets_b, lam)\n",
    "        elif cutmix_fn is not None:\n",
    "            inputs, targets_a, targets_b, lam = cutmix_fn(inputs, targets)\n",
    "            outputs = model(inputs)\n",
    "            loss = mixup_criterion(criterion, outputs, targets_a, targets_b, lam)\n",
    "        else:\n",
    "            outputs = model(inputs)\n",
    "            loss = criterion(outputs, targets)\n",
    "            lam = 1\n",
    "        \n",
    "        optimizer.zero_grad()\n",
    "        loss.backward()\n",
    "        \n",
    "        # Gradient clipping\n",
    "        torch.nn.utils.clip_grad_norm_(model.parameters(), max_norm=1.0)\n",
    "        \n",
    "        optimizer.step()\n",
    "        \n",
    "        running_loss += loss.item()\n",
    "        \n",
    "        # Calculate accuracy (approximate for mixup/cutmix)\n",
    "        _, predicted = outputs.max(1)\n",
    "        if lam == 1:\n",
    "            total += targets.size(0)\n",
    "            correct += predicted.eq(targets).sum().item()\n",
    "        \n",
    "        pbar.set_postfix({'loss': running_loss/(batch_idx+1)})\n",
    "    \n",
    "    accuracy = 100. * correct / total if total > 0 else 0\n",
    "    return running_loss / len(dataloader), accuracy\n",
    "\n",
    "def evaluate(model, dataloader, criterion, device):\n",
    "    \"\"\"Evaluate model on test set.\"\"\"\n",
    "    model.eval()\n",
    "    running_loss = 0.0\n",
    "    correct = 0\n",
    "    total = 0\n",
    "    \n",
    "    with torch.no_grad():\n",
    "        pbar = tqdm(dataloader, desc='Evaluating', leave=False)\n",
    "        for inputs, targets in pbar:\n",
    "            inputs, targets = inputs.to(device), targets.to(device)\n",
    "            outputs = model(inputs)\n",
    "            loss = criterion(outputs, targets)\n",
    "            \n",
    "            running_loss += loss.item()\n",
    "            _, predicted = outputs.max(1)\n",
    "            total += targets.size(0)\n",
    "            correct += predicted.eq(targets).sum().item()\n",
    "    \n",
    "    accuracy = 100. * correct / total\n",
    "    return running_loss / len(dataloader), accuracy\n"
   ]
  },
  {
   "cell_type": "markdown",
   "id": "ffae6322",
   "metadata": {},
   "source": [
    "## Training Loop\n"
   ]
  },
  {
   "cell_type": "code",
   "execution_count": 11,
   "id": "286c18a6",
   "metadata": {},
   "outputs": [
    {
     "name": "stdout",
     "output_type": "stream",
     "text": [
      "\n",
      "Starting training for 200 epochs...\n",
      "============================================================\n"
     ]
    }
   ],
   "source": [
    "# Setup training\n",
    "criterion = LabelSmoothingLoss(num_classes=10, smoothing=config['label_smoothing'])\n",
    "optimizer = optim.AdamW(model.parameters(), \n",
    "                        lr=config['base_lr'],\n",
    "                        weight_decay=config['weight_decay'],\n",
    "                        betas=(0.9, 0.999))\n",
    "\n",
    "# Learning rate scheduler\n",
    "scheduler = WarmupCosineScheduler(\n",
    "    optimizer,\n",
    "    warmup_epochs=config['warmup_epochs'],\n",
    "    total_epochs=config['epochs'],\n",
    "    base_lr=config['base_lr'],\n",
    "    min_lr=config['min_lr']\n",
    ")\n",
    "\n",
    "# Data augmentation\n",
    "mixup_fn = MixUp(alpha=config['mixup_alpha'], prob=config['mixup_prob'])\n",
    "cutmix_fn = CutMix(alpha=config['cutmix_alpha'], prob=config['cutmix_prob'])\n",
    "\n",
    "# Training history\n",
    "train_losses = []\n",
    "train_accs = []\n",
    "test_losses = []\n",
    "test_accs = []\n",
    "best_acc = 0\n",
    "\n",
    "print(f\"\\nStarting training for {config['epochs']} epochs...\")\n",
    "print(\"=\"*60)\n"
   ]
  },
  {
   "cell_type": "code",
   "execution_count": 12,
   "id": "397b4118",
   "metadata": {},
   "outputs": [
    {
     "name": "stderr",
     "output_type": "stream",
     "text": [
      "                                                                      \r"
     ]
    },
    {
     "name": "stdout",
     "output_type": "stream",
     "text": [
      "Epoch [1/200]\n",
      "  LR: 0.000050\n",
      "  Train Loss: 2.1825, Train Acc: 20.04%\n",
      "  Test Loss: 2.0602, Test Acc: 24.98%\n",
      "  Best Test Acc: 24.98%\n",
      "----------------------------------------\n"
     ]
    },
    {
     "name": "stderr",
     "output_type": "stream",
     "text": [
      "                                                                      \r"
     ]
    },
    {
     "name": "stdout",
     "output_type": "stream",
     "text": [
      "Epoch [10/200]\n",
      "  LR: 0.000500\n",
      "  Train Loss: 1.8108, Train Acc: 48.46%\n",
      "  Test Loss: 1.5358, Test Acc: 53.64%\n",
      "  Best Test Acc: 55.43%\n",
      "----------------------------------------\n"
     ]
    },
    {
     "name": "stderr",
     "output_type": "stream",
     "text": [
      "                                                                      \r"
     ]
    },
    {
     "name": "stdout",
     "output_type": "stream",
     "text": [
      "Epoch [20/200]\n",
      "  LR: 0.001000\n",
      "  Train Loss: 1.6991, Train Acc: 54.42%\n",
      "  Test Loss: 1.4122, Test Acc: 57.92%\n",
      "  Best Test Acc: 61.09%\n",
      "----------------------------------------\n"
     ]
    },
    {
     "name": "stderr",
     "output_type": "stream",
     "text": [
      "                                                                      \r"
     ]
    },
    {
     "name": "stdout",
     "output_type": "stream",
     "text": [
      "Epoch [30/200]\n",
      "  LR: 0.000994\n",
      "  Train Loss: 1.6173, Train Acc: 62.42%\n",
      "  Test Loss: 1.2520, Test Acc: 68.08%\n",
      "  Best Test Acc: 70.29%\n",
      "----------------------------------------\n"
     ]
    },
    {
     "name": "stderr",
     "output_type": "stream",
     "text": [
      "                                                                      \r"
     ]
    },
    {
     "name": "stdout",
     "output_type": "stream",
     "text": [
      "Epoch [40/200]\n",
      "  LR: 0.000973\n",
      "  Train Loss: 1.5070, Train Acc: 67.97%\n",
      "  Test Loss: 1.0954, Test Acc: 75.27%\n",
      "  Best Test Acc: 75.27%\n",
      "----------------------------------------\n"
     ]
    },
    {
     "name": "stderr",
     "output_type": "stream",
     "text": [
      "                                                                      \r"
     ]
    },
    {
     "name": "stdout",
     "output_type": "stream",
     "text": [
      "Epoch [50/200]\n",
      "  LR: 0.000938\n",
      "  Train Loss: 1.4412, Train Acc: 71.83%\n",
      "  Test Loss: 1.0529, Test Acc: 77.32%\n",
      "  Best Test Acc: 77.38%\n",
      "----------------------------------------\n"
     ]
    },
    {
     "name": "stderr",
     "output_type": "stream",
     "text": [
      "                                                                      \r"
     ]
    },
    {
     "name": "stdout",
     "output_type": "stream",
     "text": [
      "Epoch [60/200]\n",
      "  LR: 0.000890\n",
      "  Train Loss: 1.4031, Train Acc: 75.24%\n",
      "  Test Loss: 0.9861, Test Acc: 80.01%\n",
      "  Best Test Acc: 80.48%\n",
      "----------------------------------------\n"
     ]
    },
    {
     "name": "stderr",
     "output_type": "stream",
     "text": [
      "                                                                      \r"
     ]
    },
    {
     "name": "stdout",
     "output_type": "stream",
     "text": [
      "Epoch [70/200]\n",
      "  LR: 0.000830\n",
      "  Train Loss: 1.3506, Train Acc: 77.15%\n",
      "  Test Loss: 0.9528, Test Acc: 82.57%\n",
      "  Best Test Acc: 82.57%\n",
      "----------------------------------------\n"
     ]
    },
    {
     "name": "stderr",
     "output_type": "stream",
     "text": [
      "                                                                       \r"
     ]
    },
    {
     "name": "stdout",
     "output_type": "stream",
     "text": [
      "Epoch [80/200]\n",
      "  LR: 0.000760\n",
      "  Train Loss: 1.3237, Train Acc: 79.56%\n",
      "  Test Loss: 0.9009, Test Acc: 83.62%\n",
      "  Best Test Acc: 83.80%\n",
      "----------------------------------------\n"
     ]
    },
    {
     "name": "stderr",
     "output_type": "stream",
     "text": [
      "                                                                       \r"
     ]
    },
    {
     "name": "stdout",
     "output_type": "stream",
     "text": [
      "Epoch [90/200]\n",
      "  LR: 0.000682\n",
      "  Train Loss: 1.3183, Train Acc: 81.65%\n",
      "  Test Loss: 0.8838, Test Acc: 84.58%\n",
      "  Best Test Acc: 85.34%\n",
      "----------------------------------------\n"
     ]
    },
    {
     "name": "stderr",
     "output_type": "stream",
     "text": [
      "                                                                       \r"
     ]
    },
    {
     "name": "stdout",
     "output_type": "stream",
     "text": [
      "Epoch [100/200]\n",
      "  LR: 0.000599\n",
      "  Train Loss: 1.3035, Train Acc: 83.40%\n",
      "  Test Loss: 0.8659, Test Acc: 85.78%\n",
      "  Best Test Acc: 86.62%\n",
      "----------------------------------------\n"
     ]
    },
    {
     "name": "stderr",
     "output_type": "stream",
     "text": [
      "                                                                       \r"
     ]
    },
    {
     "name": "stdout",
     "output_type": "stream",
     "text": [
      "Epoch [110/200]\n",
      "  LR: 0.000514\n",
      "  Train Loss: 1.1889, Train Acc: 85.66%\n",
      "  Test Loss: 0.8497, Test Acc: 86.35%\n",
      "  Best Test Acc: 86.82%\n",
      "----------------------------------------\n"
     ]
    },
    {
     "name": "stderr",
     "output_type": "stream",
     "text": [
      "                                                                       \r"
     ]
    },
    {
     "name": "stdout",
     "output_type": "stream",
     "text": [
      "Epoch [120/200]\n",
      "  LR: 0.000428\n",
      "  Train Loss: 1.1297, Train Acc: 87.40%\n",
      "  Test Loss: 0.8376, Test Acc: 87.31%\n",
      "  Best Test Acc: 87.98%\n",
      "----------------------------------------\n"
     ]
    },
    {
     "name": "stderr",
     "output_type": "stream",
     "text": [
      "                                                                       \r"
     ]
    },
    {
     "name": "stdout",
     "output_type": "stream",
     "text": [
      "Epoch [130/200]\n",
      "  LR: 0.000344\n",
      "  Train Loss: 1.1873, Train Acc: 89.33%\n",
      "  Test Loss: 0.8085, Test Acc: 88.74%\n",
      "  Best Test Acc: 88.74%\n",
      "----------------------------------------\n"
     ]
    },
    {
     "name": "stderr",
     "output_type": "stream",
     "text": [
      "                                                                       \r"
     ]
    },
    {
     "name": "stdout",
     "output_type": "stream",
     "text": [
      "Epoch [140/200]\n",
      "  LR: 0.000265\n",
      "  Train Loss: 1.1294, Train Acc: 90.59%\n",
      "  Test Loss: 0.7984, Test Acc: 89.35%\n",
      "  Best Test Acc: 89.35%\n",
      "----------------------------------------\n"
     ]
    },
    {
     "name": "stderr",
     "output_type": "stream",
     "text": [
      "                                                                       \r"
     ]
    },
    {
     "name": "stdout",
     "output_type": "stream",
     "text": [
      "Epoch [150/200]\n",
      "  LR: 0.000193\n",
      "  Train Loss: 1.0662, Train Acc: 92.22%\n",
      "  Test Loss: 0.7917, Test Acc: 89.60%\n",
      "  Best Test Acc: 89.89%\n",
      "----------------------------------------\n"
     ]
    },
    {
     "name": "stderr",
     "output_type": "stream",
     "text": [
      "                                                                       \r"
     ]
    },
    {
     "name": "stdout",
     "output_type": "stream",
     "text": [
      "Epoch [160/200]\n",
      "  LR: 0.000131\n",
      "  Train Loss: 1.0447, Train Acc: 93.53%\n",
      "  Test Loss: 0.7864, Test Acc: 90.02%\n",
      "  Best Test Acc: 90.16%\n",
      "----------------------------------------\n"
     ]
    },
    {
     "name": "stderr",
     "output_type": "stream",
     "text": [
      "                                                                       \r"
     ]
    },
    {
     "name": "stdout",
     "output_type": "stream",
     "text": [
      "Epoch [170/200]\n",
      "  LR: 0.000081\n",
      "  Train Loss: 1.0420, Train Acc: 94.50%\n",
      "  Test Loss: 0.7843, Test Acc: 90.46%\n",
      "  Best Test Acc: 90.47%\n",
      "----------------------------------------\n"
     ]
    },
    {
     "name": "stderr",
     "output_type": "stream",
     "text": [
      "                                                                       \r"
     ]
    },
    {
     "name": "stdout",
     "output_type": "stream",
     "text": [
      "Epoch [180/200]\n",
      "  LR: 0.000043\n",
      "  Train Loss: 1.0024, Train Acc: 94.97%\n",
      "  Test Loss: 0.7762, Test Acc: 90.59%\n",
      "  Best Test Acc: 90.74%\n",
      "----------------------------------------\n"
     ]
    },
    {
     "name": "stderr",
     "output_type": "stream",
     "text": [
      "                                                                       \r"
     ]
    },
    {
     "name": "stdout",
     "output_type": "stream",
     "text": [
      "Epoch [190/200]\n",
      "  LR: 0.000019\n",
      "  Train Loss: 1.0242, Train Acc: 95.29%\n",
      "  Test Loss: 0.7777, Test Acc: 90.63%\n",
      "  Best Test Acc: 90.78%\n",
      "----------------------------------------\n"
     ]
    },
    {
     "name": "stderr",
     "output_type": "stream",
     "text": [
      "                                                                       "
     ]
    },
    {
     "name": "stdout",
     "output_type": "stream",
     "text": [
      "Epoch [200/200]\n",
      "  LR: 0.000010\n",
      "  Train Loss: 1.0217, Train Acc: 95.41%\n",
      "  Test Loss: 0.7748, Test Acc: 90.65%\n",
      "  Best Test Acc: 90.78%\n",
      "----------------------------------------\n",
      "\n",
      "============================================================\n",
      "Training completed! Best Test Accuracy: 90.78%\n",
      "============================================================\n"
     ]
    },
    {
     "name": "stderr",
     "output_type": "stream",
     "text": [
      "\r"
     ]
    }
   ],
   "source": [
    "# Main training loop\n",
    "for epoch in range(config['epochs']):\n",
    "    # Update learning rate\n",
    "    current_lr = scheduler.step(epoch)\n",
    "    \n",
    "    # Train\n",
    "    train_loss, train_acc = train_epoch(\n",
    "        model, trainloader, criterion, optimizer, device, mixup_fn, cutmix_fn\n",
    "    )\n",
    "    train_losses.append(train_loss)\n",
    "    train_accs.append(train_acc)\n",
    "    \n",
    "    # Evaluate\n",
    "    test_loss, test_acc = evaluate(model, testloader, criterion, device)\n",
    "    test_losses.append(test_loss)\n",
    "    test_accs.append(test_acc)\n",
    "    \n",
    "    # Save best model\n",
    "    if test_acc > best_acc:\n",
    "        best_acc = test_acc\n",
    "        torch.save({\n",
    "            'epoch': epoch,\n",
    "            'model_state_dict': model.state_dict(),\n",
    "            'optimizer_state_dict': optimizer.state_dict(),\n",
    "            'test_acc': test_acc,\n",
    "            'config': config,\n",
    "        }, 'best_vit_cifar10.pth')\n",
    "    \n",
    "    # Print progress\n",
    "    if (epoch + 1) % 10 == 0 or epoch == 0:\n",
    "        print(f\"Epoch [{epoch+1}/{config['epochs']}]\")\n",
    "        print(f\"  LR: {current_lr:.6f}\")\n",
    "        print(f\"  Train Loss: {train_loss:.4f}, Train Acc: {train_acc:.2f}%\")\n",
    "        print(f\"  Test Loss: {test_loss:.4f}, Test Acc: {test_acc:.2f}%\")\n",
    "        print(f\"  Best Test Acc: {best_acc:.2f}%\")\n",
    "        print(\"-\"*40)\n",
    "\n",
    "print(\"\\n\" + \"=\"*60)\n",
    "print(f\"Training completed! Best Test Accuracy: {best_acc:.2f}%\")\n",
    "print(\"=\"*60)\n"
   ]
  },
  {
   "cell_type": "markdown",
   "id": "9aa12948",
   "metadata": {},
   "source": [
    "## Visualization and Results\n"
   ]
  },
  {
   "cell_type": "code",
   "execution_count": 13,
   "id": "ee4c4a2b",
   "metadata": {},
   "outputs": [
    {
     "data": {
      "image/png": "[encoded data removed]",
      "text/plain": [
       "<Figure size 1400x500 with 2 Axes>"
      ]
     },
     "metadata": {},
     "output_type": "display_data"
    },
    {
     "name": "stdout",
     "output_type": "stream",
     "text": [
      "\n",
      "Final Results:\n",
      "Best Test Accuracy: 90.78%\n",
      "Final Test Accuracy: 90.65%\n"
     ]
    }
   ],
   "source": [
    "# Plot training curves\n",
    "fig, (ax1, ax2) = plt.subplots(1, 2, figsize=(14, 5))\n",
    "\n",
    "# Loss plot\n",
    "ax1.plot(train_losses, label='Train Loss', linewidth=2)\n",
    "ax1.plot(test_losses, label='Test Loss', linewidth=2)\n",
    "ax1.set_xlabel('Epoch', fontsize=12)\n",
    "ax1.set_ylabel('Loss', fontsize=12)\n",
    "ax1.set_title('Training and Test Loss', fontsize=14, fontweight='bold')\n",
    "ax1.legend(fontsize=11)\n",
    "ax1.grid(True, alpha=0.3)\n",
    "\n",
    "# Accuracy plot\n",
    "ax2.plot(train_accs, label='Train Accuracy', linewidth=2)\n",
    "ax2.plot(test_accs, label='Test Accuracy', linewidth=2)\n",
    "ax2.axhline(y=best_acc, color='r', linestyle='--', label=f'Best: {best_acc:.2f}%', linewidth=2)\n",
    "ax2.set_xlabel('Epoch', fontsize=12)\n",
    "ax2.set_ylabel('Accuracy (%)', fontsize=12)\n",
    "ax2.set_title('Training and Test Accuracy', fontsize=14, fontweight='bold')\n",
    "ax2.legend(fontsize=11)\n",
    "ax2.grid(True, alpha=0.3)\n",
    "\n",
    "plt.tight_layout()\n",
    "plt.show()\n",
    "\n",
    "print(f\"\\nFinal Results:\")\n",
    "print(f\"Best Test Accuracy: {best_acc:.2f}%\")\n",
    "print(f\"Final Test Accuracy: {test_accs[-1]:.2f}%\")\n"
   ]
  },
  {
   "cell_type": "code",
   "execution_count": 14,
   "id": "96291f01",
   "metadata": {},
   "outputs": [
    {
     "name": "stdout",
     "output_type": "stream",
     "text": [
      "\n",
      "Overall Test Accuracy: 90.78%\n",
      "\n",
      "Per-class Accuracy:\n",
      "------------------------------\n",
      "plane     : 92.50%\n",
      "car       : 95.80%\n",
      "bird      : 89.90%\n",
      "cat       : 80.80%\n",
      "deer      : 88.80%\n",
      "dog       : 86.00%\n",
      "frog      : 92.80%\n",
      "horse     : 93.00%\n",
      "ship      : 95.10%\n",
      "truck     : 93.10%\n"
     ]
    }
   ],
   "source": [
    "# Load best model and evaluate\n",
    "checkpoint = torch.load('best_vit_cifar10.pth')\n",
    "model.load_state_dict(checkpoint['model_state_dict'])\n",
    "\n",
    "# Final evaluation on test set\n",
    "model.eval()\n",
    "correct = 0\n",
    "total = 0\n",
    "class_correct = list(0. for i in range(10))\n",
    "class_total = list(0. for i in range(10))\n",
    "\n",
    "with torch.no_grad():\n",
    "    for data in testloader:\n",
    "        images, labels = data[0].to(device), data[1].to(device)\n",
    "        outputs = model(images)\n",
    "        _, predicted = torch.max(outputs, 1)\n",
    "        total += labels.size(0)\n",
    "        correct += (predicted == labels).sum().item()\n",
    "        \n",
    "        c = (predicted == labels).squeeze()\n",
    "        for i in range(labels.size(0)):\n",
    "            label = labels[i]\n",
    "            class_correct[label] += c[i].item()\n",
    "            class_total[label] += 1\n",
    "\n",
    "overall_acc = 100 * correct / total\n",
    "print(f'\\nOverall Test Accuracy: {overall_acc:.2f}%')\n",
    "print('\\nPer-class Accuracy:')\n",
    "print('-' * 30)\n",
    "for i in range(10):\n",
    "    acc = 100 * class_correct[i] / class_total[i]\n",
    "    print(f'{classes[i]:10s}: {acc:.2f}%')\n"
   ]
  },
  {
   "cell_type": "markdown",
   "id": "b7746d70",
   "metadata": {},
   "source": [
    "## Results Summary\n"
   ]
  },
  {
   "cell_type": "code",
   "execution_count": 16,
   "id": "97da6429",
   "metadata": {},
   "outputs": [
    {
     "name": "stdout",
     "output_type": "stream",
     "text": [
      "==================================================\n",
      "VISION TRANSFORMER - CIFAR-10 RESULTS\n",
      "==================================================\n",
      "\n",
      "Model Configuration:\n",
      "  - Patch Size: 4x4\n",
      "  - Embedding Dim: 384\n",
      "  - Depth: 12 blocks\n",
      "  - Heads: 6\n",
      "  - Parameters: 21,423,562\n",
      "\n",
      "Training Configuration:\n",
      "  - Epochs: 200\n",
      "  - Batch Size: 128\n",
      "  - Learning Rate: 0.001 (with warmup)\n",
      "  - Augmentations: CutMix + MixUp + RandAugment\n",
      "\n",
      "Results:\n",
      "  - Best Test Accuracy: 90.78%\n",
      "  - Overall Test Accuracy: 90.78%\n",
      "==================================================\n"
     ]
    }
   ],
   "source": [
    "print(\"=\"*50)\n",
    "print(\"VISION TRANSFORMER - CIFAR-10 RESULTS\")\n",
    "print(\"=\"*50)\n",
    "\n",
    "print(f\"\\nModel Configuration:\")\n",
    "print(f\"  - Patch Size: {config['patch_size']}x{config['patch_size']}\")\n",
    "print(f\"  - Embedding Dim: {config['embed_dim']}\")\n",
    "print(f\"  - Depth: {config['depth']} blocks\")\n",
    "print(f\"  - Heads: {config['num_heads']}\")\n",
    "print(f\"  - Parameters: {total_params:,}\")\n",
    "print(f\"\\nTraining Configuration:\")\n",
    "print(f\"  - Epochs: {config['epochs']}\")\n",
    "print(f\"  - Batch Size: {config['batch_size']}\")\n",
    "print(f\"  - Learning Rate: {config['base_lr']} (with warmup)\")\n",
    "print(f\"  - Augmentations: CutMix + MixUp + RandAugment\")\n",
    "print(f\"\\nResults:\")\n",
    "print(f\"  - Best Test Accuracy: {best_acc:.2f}%\")\n",
    "print(f\"  - Overall Test Accuracy: {overall_acc:.2f}%\")\n",
    "print(\"=\"*50)\n"
   ]
  },
  {
   "cell_type": "code",
   "execution_count": null,
   "id": "511b9600",
   "metadata": {},
   "outputs": [],
   "source": []
  }
 ],
 "metadata": {
  "kernelspec": {
   "display_name": "base",
   "language": "python",
   "name": "python3"
  },
  "language_info": {
   "codemirror_mode": {
    "name": "ipython",
    "version": 3
   },
   "file_extension": ".py",
   "mimetype": "text/x-python",
   "name": "python",
   "nbconvert_exporter": "python",
   "pygments_lexer": "ipython3",
   "version": "3.10.18"
  }
 },
 "nbformat": 4,
 "nbformat_minor": 5
}
